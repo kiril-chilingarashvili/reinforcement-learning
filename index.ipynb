{
 "cells": [
  {
   "cell_type": "markdown",
   "id": "62c19ba1-5a79-4072-88e7-a0d6400284bc",
   "metadata": {},
   "source": [
    "# Cheatsheets from [Reinforcement Learning, An Introduction](http://incompleteideas.net/book/the-book-2nd.html)\n",
    "\n",
    "- [Chapter 2](/cs-02.html)\n",
    "- [Chapter 3](/cs-02.html)"
   ]
  },
  {
   "cell_type": "code",
   "execution_count": null,
   "id": "a4e414d9-5600-4928-9e1e-88135b83f16e",
   "metadata": {},
   "outputs": [],
   "source": []
  }
 ],
 "metadata": {
  "kernelspec": {
   "display_name": "Python 3",
   "language": "python",
   "name": "python3"
  },
  "language_info": {
   "codemirror_mode": {
    "name": "ipython",
    "version": 3
   },
   "file_extension": ".py",
   "mimetype": "text/x-python",
   "name": "python",
   "nbconvert_exporter": "python",
   "pygments_lexer": "ipython3",
   "version": "3.8.8"
  }
 },
 "nbformat": 4,
 "nbformat_minor": 5
}
