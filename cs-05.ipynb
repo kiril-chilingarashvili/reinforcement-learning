{
 "cells": [
  {
   "cell_type": "markdown",
   "id": "31891790-f727-4ae9-98a0-fec18ce2524d",
   "metadata": {},
   "source": [
    "# Monte Carlo Methods"
   ]
  },
  {
   "cell_type": "markdown",
   "id": "4203ba62-5789-47e7-9363-8e920dfabd25",
   "metadata": {},
   "source": [
    "## First-Visit MC Prediction\n",
    "![First-Visit MC Prediction](img/algo-4.png)\n",
    "### (Every-visit MC would be the same except without the check for $S_t$ having occurred earlier in the episode.)"
   ]
  },
  {
   "cell_type": "markdown",
   "id": "222bfe54-df41-46ea-bfd7-b5047d839498",
   "metadata": {},
   "source": [
    "## MC ES (Monte Carlo Exploring Starts - Control)\n",
    "![MC ES](img/algo-5.png)"
   ]
  },
  {
   "cell_type": "markdown",
   "id": "a3c2128f-8c58-423d-9020-87cf17af6241",
   "metadata": {},
   "source": [
    "## On-policy first-visit MC control\n",
    "![On-policy first-visit MC control](img/algo-6.png)"
   ]
  },
  {
   "cell_type": "markdown",
   "id": "0be98fef-29f6-44b3-aac9-2430cbfa2e09",
   "metadata": {},
   "source": [
    "## Off-policy MC prediction\n",
    "![Off-policy MC prediction](img/algo-7.png)"
   ]
  },
  {
   "cell_type": "markdown",
   "id": "8738f22f-dc5b-411e-a27f-1cb53c38f7d8",
   "metadata": {},
   "source": [
    "## Off-policy MC control\n",
    "![Off-policy MC control](img/algo-8.png)"
   ]
  },
  {
   "cell_type": "code",
   "execution_count": null,
   "id": "9797e931-fbf3-4fee-88b5-2875c3c88088",
   "metadata": {},
   "outputs": [],
   "source": []
  }
 ],
 "metadata": {
  "kernelspec": {
   "display_name": "Python 3",
   "language": "python",
   "name": "python3"
  },
  "language_info": {
   "codemirror_mode": {
    "name": "ipython",
    "version": 3
   },
   "file_extension": ".py",
   "mimetype": "text/x-python",
   "name": "python",
   "nbconvert_exporter": "python",
   "pygments_lexer": "ipython3",
   "version": "3.8.8"
  }
 },
 "nbformat": 4,
 "nbformat_minor": 5
}
