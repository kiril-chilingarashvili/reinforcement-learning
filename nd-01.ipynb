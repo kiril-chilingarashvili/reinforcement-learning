{
 "cells": [
  {
   "cell_type": "markdown",
   "id": "f456abcf-cd11-489c-af7d-33e689047fe2",
   "metadata": {},
   "source": [
    "## Bellman Equations"
   ]
  },
  {
   "cell_type": "markdown",
   "id": "a036472e-c4b6-46d3-b92d-3f9cbd7c57ac",
   "metadata": {},
   "source": [
    "### ***State-Value Function***\n",
    "## $$ v_{\\pi} (s) = \\mathbb{E}_{\\pi}[G_t | S_t = s] $$\n",
    "## $$ = \\mathbb{E}_{\\pi}[R_{t+1}+\\gamma v_{\\pi} (S_{t+1}) | S_t = s] $$\n",
    "## $$ = \\sum_{s' \\in \\mathcal{S}^+,r\\in\\mathcal{R}} p(s', r | s, \\pi(s)) (r + \\gamma v_{\\pi} (s')) $$\n",
    "## $$ = \\sum_{s' \\in \\mathcal{S}^+,r\\in\\mathcal{R}, a\\in \\mathcal{A}(s)} \\pi(a | s) p(s', r | s, a) (r + \\gamma v_{\\pi} (s')) $$"
   ]
  },
  {
   "cell_type": "markdown",
   "id": "bd2530e9-ba85-4fc7-ab90-7e1f62fae4c2",
   "metadata": {},
   "source": [
    "### ***Action-Value Function***\n",
    "## $$ q_{\\pi} (s, a) = \\mathbb{E}_{\\pi}[G_t | S_t = s, A_t = a] $$"
   ]
  },
  {
   "cell_type": "markdown",
   "id": "18f23ff7-2e70-49ee-b28f-d5141494ca95",
   "metadata": {},
   "source": [
    "## Monte-Carlo Predition\n",
    "### Option 1: Every-visit MC Prediction\n",
    "### Average the returns following all visits to each state-action pair, in all episodes.\n",
    "\n",
    "### Option 2: First-visit MC Prediction\n",
    "### For each episode, we only consider the first visit to the state-action pair. The pseudocode for this option can be found below.\n",
    "![MC](img/mc.png)"
   ]
  },
  {
   "cell_type": "code",
   "execution_count": null,
   "id": "92b575da-7f48-4578-bf9b-e121c32a7a9d",
   "metadata": {},
   "outputs": [],
   "source": []
  }
 ],
 "metadata": {
  "kernelspec": {
   "display_name": "Python 3",
   "language": "python",
   "name": "python3"
  },
  "language_info": {
   "codemirror_mode": {
    "name": "ipython",
    "version": 3
   },
   "file_extension": ".py",
   "mimetype": "text/x-python",
   "name": "python",
   "nbconvert_exporter": "python",
   "pygments_lexer": "ipython3",
   "version": "3.8.8"
  }
 },
 "nbformat": 4,
 "nbformat_minor": 5
}
