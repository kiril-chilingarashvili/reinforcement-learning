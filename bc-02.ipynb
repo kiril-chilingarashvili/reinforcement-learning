{
 "cells": [
  {
   "cell_type": "code",
   "execution_count": 9,
   "id": "1f697594-f3be-482e-9c24-920e364de17f",
   "metadata": {},
   "outputs": [
    {
     "data": {
      "text/plain": [
       "array([0.2, 0.2, 0.2, 0.2])"
      ]
     },
     "execution_count": 9,
     "metadata": {},
     "output_type": "execute_result"
    }
   ],
   "source": [
    "import numpy as np \n",
    "import matplotlib.pyplot as plt \n",
    "\n",
    "\"\"\"\n",
    "Exercise 2.5 (programming) Design and conduct an experiment to demonstrate the difficulties \n",
    "that sample-average methods have for nonstationary problems. Use a modified version of the \n",
    "10-armed testbed in which all the q * ( a ) start out equal and then take independent \n",
    "random walks (say by adding a normally distributed increment with mean zero and standard \n",
    "deviation 0.01 to all the q * ( a ) on each step). Prepare plots like Figure 2.2 \n",
    "for an action-value method using sample averages, incrementally computed, and another \n",
    "action-value method using a constant step-size parameter, α = 0.1. Use ε = 0.1 and longer runs, say of 10,000 steps. \n",
    "\n",
    "Sutton, Richard S.,Barto, Andrew G.. Reinforcement Learning, second edition (Adaptive Computation and Machine Learning series) (p. 33). MIT Press. Kindle Edition. \n",
    "\"\"\"\n",
    "def RandomWalk(x):\n",
    "    #x is a vector, each element takes random walk independently, this function return\n",
    "    # a new vector where each element takes a step by the rule of  random walk\n",
    "    \n",
    "    dim = np.size(x)\n",
    "    \n",
    "    walk_set=[-1, 1, 0]\n",
    "    \n",
    "    for i in range(dim):\n",
    "        # https://numpy.org/doc/stable/reference/random/generated/numpy.random.choice.html\n",
    "        x[i]= x[i] + np.random.choice(walk_set)\n",
    "        \n",
    "    return x\n",
    "\n",
    "def eps_greedy(epsilon, Q):\n",
    "    # This function returns an action chosen by epsilon greedy algorithm given the current action value estimate is Q\n",
    "    \n",
    "    # https://numpy.org/doc/stable/reference/generated/numpy.argmax.html\n",
    "    i = np.argmax(Q)\n",
    "    \n",
    "    dim = np.size(Q)\n",
    "    \n",
    "    action_space = range(0, dim, 1)\n",
    "    \n",
    "    sample = np.random.uniform(0, 1)\n",
    "    \n",
    "    if sample <= 1 - epsilon:\n",
    "        return i\n",
    "    else:\n",
    "       action_space = np.delete(action_space, i)\n",
    "       return np.random.choice(action_space)\n",
    "\n",
    "Q = [0.2, 0.2, 0.4, 0.2, 0.2]\n",
    "Q=np.delete(Q, 2)\n",
    "Q\n",
    "# eps_greedy(0.5, Q)"
   ]
  },
  {
   "cell_type": "code",
   "execution_count": 13,
   "id": "41fb547f-bb44-442a-844d-1ca26176f18d",
   "metadata": {},
   "outputs": [
    {
     "data": {
      "image/png": "[encoded data removed]",
      "text/plain": [
       "<Figure size 432x288 with 1 Axes>"
      ]
     },
     "metadata": {
      "needs_background": "light"
     },
     "output_type": "display_data"
    },
    {
     "name": "stdout",
     "output_type": "stream",
     "text": [
      "[[ -8  56  14 ...   8  29 -24]\n",
      " [-18  -2  10 ... -27 -47   0]\n",
      " [ 51  -7  22 ...  21  -2  11]\n",
      " ...\n",
      " [-30   9 -18 ... -37 -13 -10]\n",
      " [ -1 -50  43 ...  -7   6  68]\n",
      " [-50 -41 -10 ... -10  -6 -30]]\n",
      "[[ -4  20   4 ...   3  18  -6]\n",
      " [ -7   1   4 ... -11 -32   0]\n",
      " [ 46   0   3 ...   2   0   0]\n",
      " ...\n",
      " [ -6   1 -12 ...  -9   1  -1]\n",
      " [  0 -14  39 ...  -6   0  15]\n",
      " [-27 -19   0 ...   4   4  -5]]\n",
      "[[ -9  26   3 ...   0  20 -17]\n",
      " [-14   0   5 ...  -8 -46   0]\n",
      " [  0   0   0 ...   2  -6   1]\n",
      " ...\n",
      " [  0   0 -22 ... -13   0   0]\n",
      " [  6  -5   3 ... -12   0  22]\n",
      " [  0  -8   0 ...   0   0 -10]]\n"
     ]
    }
   ],
   "source": [
    "\n",
    "def multi_task(max_iter, # max_iter - circuit braker\n",
    "               task_number, # rows, samples number\n",
    "               epsilon, # epsilon - to decide for e-greedy action\n",
    "               arm_number, # k - in k-armed bandit tasks\n",
    "               step_size # alpha - step size for updating estimates Q\n",
    "              ):\n",
    "    \n",
    "    rows, cols = task_number, arm_number\n",
    "    \n",
    "    my_matrix = np.zeros((rows, cols), dtype=int)\n",
    "    constQ = np.zeros((rows, cols), dtype=int)\n",
    "    variaQ = np.zeros((rows, cols), dtype=int)\n",
    "    q = np.zeros((rows, cols), dtype=int)\n",
    "    constN =np.zeros((rows, cols), dtype=int)\n",
    "    variaN = np.zeros((rows, cols), dtype=int)\n",
    "    \n",
    "    constR = np.zeros(max_iter)\n",
    "    variaR = np.zeros(max_iter)\n",
    "    \n",
    "    \n",
    "    for i in range(max_iter): # iterate circuit braker limit number of times\n",
    "        for j in range(task_number): # foreach in samples/rows\n",
    "            \n",
    "            #random walk of each arm\n",
    "            task_q = q[j,:] # get env rewards for time step j\n",
    "            task_q = RandomWalk(task_q) # randomize rewards for this time step and each arm out of k arms\n",
    "            q[j,:] = task_q # store mutated state for j-th time step to persist throughout other experiments until circuit braker limit is reached\n",
    "            \n",
    "            # Constant stepsize\n",
    "            task_constQ = constQ[j,:] # get estimates for this time step stored among experiments\n",
    "            task_constN = constN[j,:] # get counts of action selections for this time step among experiments\n",
    "            c = constN[j,:] # get number of actions chosen (array with number in indices of actions)\n",
    "            action_const = eps_greedy(epsilon, task_constQ) # choose action\n",
    "            \n",
    "            reward_const = task_q[action_const] # get reward for chosen action from environmet\n",
    "            constR[i] = constR[i] + reward_const # aggregate cumulative reward for experiment i\n",
    "            \n",
    "            task_constN[action_const] = task_constN[action_const] + 1 # count how many times action was chosen in a given time step\n",
    "            \n",
    "            difference = reward_const - task_constQ[action_const] # calculate the difference between environment reward and estimated reward\n",
    "            alpha = step_size # step size is the same as alpha - constant value\n",
    "            task_constQ[action_const] = task_constQ[action_const] + alpha * difference # update estimates\n",
    "            \n",
    "            constQ[j,:] = task_constQ # update the main matrix to preserve estimates between experiments\n",
    "            constN[j,:] = task_constN # update the main matrix to preserve counts between experiments\n",
    "            \n",
    "            # Changing stepsize\n",
    "            task_variaQ = variaQ[j,:] # get estimates for this time step stored among experiments\n",
    "            task_variaN = variaN[j,:] # get counts of action selections for this time step among experiments\n",
    "            action_varia = eps_greedy(epsilon, task_variaQ) # choose action\n",
    "            \n",
    "            reward_varia = task_q[action_varia] # get reward for chosen action from environmet\n",
    "            task_variaN[action_varia] = task_variaN[action_varia] + 1 # count how many times action was chosen in a given time step\n",
    "            if i == 0:\n",
    "                beta = 1 # by convention\n",
    "            else:\n",
    "                beta = 1 / task_variaN[action_varia] # classic sampling formula Q = Q + 1/n(R - Q)\n",
    "            task_variaQ[action_varia] = task_variaQ[action_varia] + beta * (reward_varia - task_variaQ[action_varia]) # Q = Q + 1/n(R - Q)\n",
    "            \n",
    "            variaN[j,:] = task_variaN # update the main matrix to preserve estimates between experiments\n",
    "            variaQ[j,:] = task_variaQ # get counts of action selections for this time step among experiments\n",
    "            \n",
    "            variaR[i] = variaR[i] + reward_varia\n",
    "            \n",
    "        variaR[i] = variaR[i] / task_number\n",
    "        constR[i] = constR[i] / task_number\n",
    "        \n",
    "        \n",
    "    plt.xlabel('Steps')\n",
    "    plt.ylabel('Average Reward')\n",
    "    plt.plot(variaR, color='r') # Q = Q + 1/n(R - Q)\n",
    "    plt.plot(constR, color='b') # Q = Q + alpha*(R - Q)\n",
    "    plt.xticks(np.arange(0, max_iter+1, 100))\n",
    "    \n",
    "    plt.show()\n",
    "    plt.close()\n",
    "    print(q)\n",
    "    print(constQ)\n",
    "    print(variaQ)\n",
    "\n",
    "max_iter = 1000\n",
    "task_number = 500\n",
    "epsilon = 0.1\n",
    "arm_number = 10\n",
    "step_size = 0.1\n",
    "multi_task(max_iter, task_number, epsilon, arm_number, step_size)"
   ]
  },
  {
   "cell_type": "code",
   "execution_count": 12,
   "id": "28927454-4976-46b9-89ce-8f1250b4e3f4",
   "metadata": {},
   "outputs": [
    {
     "data": {
      "text/plain": [
       "(array([[0, 0, 0, 0, 0],\n",
       "        [0, 0, 0, 0, 0],\n",
       "        [0, 0, 0, 0, 0],\n",
       "        [0, 0, 0, 0, 0],\n",
       "        [0, 0, 0, 0, 0]]),\n",
       " array([[0, 0, 0, 0, 0],\n",
       "        [0, 0, 0, 0, 0],\n",
       "        [0, 0, 0, 0, 0],\n",
       "        [0, 0, 0, 0, 0],\n",
       "        [0, 0, 0, 0, 0]]))"
      ]
     },
     "execution_count": 12,
     "metadata": {},
     "output_type": "execute_result"
    }
   ],
   "source": [
    "cols = 5\n",
    "rows = 5\n",
    "np.zeros((rows, cols), dtype=int), np.array( [([0]*cols) for i in range(rows)] )"
   ]
  },
  {
   "cell_type": "code",
   "execution_count": null,
   "id": "6731b174-fc84-4bc9-81c7-c7f4a9dde402",
   "metadata": {},
   "outputs": [],
   "source": []
  },
  {
   "cell_type": "code",
   "execution_count": null,
   "id": "75e0208d-79ee-481a-993f-16ed479e5257",
   "metadata": {},
   "outputs": [],
   "source": []
  }
 ],
 "metadata": {
  "kernelspec": {
   "display_name": "Python 3",
   "language": "python",
   "name": "python3"
  },
  "language_info": {
   "codemirror_mode": {
    "name": "ipython",
    "version": 3
   },
   "file_extension": ".py",
   "mimetype": "text/x-python",
   "name": "python",
   "nbconvert_exporter": "python",
   "pygments_lexer": "ipython3",
   "version": "3.8.8"
  }
 },
 "nbformat": 4,
 "nbformat_minor": 5
}
