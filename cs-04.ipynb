{
 "cells": [
  {
   "cell_type": "markdown",
   "id": "f56162e4-415d-4fec-bb0d-b6a76088fad0",
   "metadata": {},
   "source": [
    "# Dynamic Programming"
   ]
  },
  {
   "cell_type": "markdown",
   "id": "89de8a85-ea3d-4061-8153-ef9a7d861c34",
   "metadata": {},
   "source": [
    "## Iterative Policy Evaluation\n",
    "![Iterative Policy Evaluation](img/algo-1.png)"
   ]
  },
  {
   "cell_type": "markdown",
   "id": "4a31a460-7886-4aac-8a06-89ace383bc87",
   "metadata": {},
   "source": [
    "## Policy Iteration\n",
    "![Policy Iteration](img/algo-2.png)"
   ]
  },
  {
   "cell_type": "markdown",
   "id": "2a2d93f0-371e-412c-a7a0-4eab660021c0",
   "metadata": {},
   "source": [
    "## Value Iteration\n",
    "![Value Iteration](img/algo-3.png)"
   ]
  },
  {
   "cell_type": "code",
   "execution_count": null,
   "id": "0608a819-a3b4-4747-9b55-c65cdd396d1f",
   "metadata": {},
   "outputs": [],
   "source": []
  }
 ],
 "metadata": {
  "kernelspec": {
   "display_name": "Python 3",
   "language": "python",
   "name": "python3"
  },
  "language_info": {
   "codemirror_mode": {
    "name": "ipython",
    "version": 3
   },
   "file_extension": ".py",
   "mimetype": "text/x-python",
   "name": "python",
   "nbconvert_exporter": "python",
   "pygments_lexer": "ipython3",
   "version": "3.8.8"
  }
 },
 "nbformat": 4,
 "nbformat_minor": 5
}
